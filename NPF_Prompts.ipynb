{
  "nbformat": 4,
  "nbformat_minor": 0,
  "metadata": {
    "colab": {
      "provenance": []
    },
    "kernelspec": {
      "name": "python3",
      "display_name": "Python 3"
    },
    "language_info": {
      "name": "python"
    }
  },
  "cells": [
    {
      "cell_type": "code",
      "source": [
        "import openai\n",
        "import json\n",
        "from datetime import datetime\n",
        "import os\n",
        "\n",
        "openai.api_key = os.getenv(\"OPENAI_API_KEY\", \"\")"
      ],
      "metadata": {
        "id": "iRADjKfe20wU"
      },
      "execution_count": 1,
      "outputs": []
    },
    {
      "cell_type": "markdown",
      "source": [
        "## Baseline GPT Outputs"
      ],
      "metadata": {
        "id": "VVuGZ-a5reCh"
      }
    },
    {
      "cell_type": "code",
      "source": [
        "model = \"gpt-4o\"\n",
        "temperatures = [0.5, 0.9]\n",
        "policy_topics = [\"Infrastructure\", \"Healthcare Reform\", \"Immigration Reform\", \"Climate Change\", \"Israel-US AI Center Act\"]"
      ],
      "metadata": {
        "id": "7S5ZAPzq2_hn"
      },
      "execution_count": null,
      "outputs": []
    },
    {
      "cell_type": "code",
      "source": [
        "# Prompts and results\n",
        "baseline_prompt_template = \"Write a 5-paragraph policy summary explaining the importance of {}. Use a formal tone.\"\n",
        "\n",
        "structured_npf_prompt_template = \"\"\"You are a policy analyst trained in the Narrative Policy Framework. Write a 5-paragraph policy narrative advocating for {}. Include:\n",
        "- A setting (describe the policy context and stakes)\n",
        "- Characters (a hero promoting the policy, a villain opposing it, and a victim affected by inaction)\n",
        "- A plot (describe the conflict and how the policy resolves it)\n",
        "- A moral (what lesson or value the audience should take away)\n",
        "Use vivid, persuasive language.\"\"\"\n",
        "\n",
        "speech_npf_prompt_template = \"\"\"You are a skilled policy speechwriter trained in the Narrative Policy Framework. Write a persuasive 5-paragraph policy speech advocating for {}.\n",
        "The speech should:\n",
        "- Open with a vivid policy setting that conveys the stakes.\n",
        "- Introduce key characters: a person or group championing the policy (hero), those resisting it (villain), and those affected by inaction (victims).\n",
        "- Use a compelling plot to describe the conflict and how the policy addresses it.\n",
        "- Close with a strong moral message—a lesson or value the audience should remember.\n",
        "Do not label these parts. Instead, weave them naturally into a rhetorically powerful, emotionally resonant speech in a formal tone, suitable for delivery on the House or Senate floor.\"\"\"\n",
        "\n",
        "results = []"
      ],
      "metadata": {
        "id": "vklG8XNu2wGs"
      },
      "execution_count": null,
      "outputs": []
    },
    {
      "cell_type": "code",
      "source": [
        "# Loop through temperatures, topics, and prompt types\n",
        "for temp in temperatures:\n",
        "    for topic in policy_topics:\n",
        "        for prompt_type, template in [\n",
        "            (\"Baseline\", baseline_prompt_template),\n",
        "            (\"Structured NPF\", structured_npf_prompt_template),\n",
        "            (\"Speech-style NPF\", speech_npf_prompt_template)\n",
        "        ]:\n",
        "            prompt = template.format(topic)\n",
        "            try:\n",
        "                response = openai.chat.completions.create(\n",
        "                    model=model,\n",
        "                    messages=[{\"role\": \"user\", \"content\": prompt}],\n",
        "                    temperature=temp\n",
        "                )\n",
        "                content = response.choices[0].message.content\n",
        "            except Exception as e:\n",
        "                content = f\"ERROR: {str(e)}\"\n",
        "\n",
        "            results.append({\n",
        "                \"timestamp\": datetime.utcnow().isoformat(),\n",
        "                \"topic\": topic,\n",
        "                \"prompt_type\": prompt_type,\n",
        "                \"prompt\": prompt,\n",
        "                \"model\": model,\n",
        "                \"temperature\": temp,\n",
        "                \"response\": content\n",
        "            })"
      ],
      "metadata": {
        "id": "QKcDtwro68j0"
      },
      "execution_count": null,
      "outputs": []
    },
    {
      "cell_type": "code",
      "source": [
        "# Save to JSON\n",
        "with open(\"policy_narratives_output.json\", \"w\", encoding='utf-8') as f:\n",
        "    json.dump(results, f, indent=2, ensure_ascii=False)\n",
        "\n",
        "print(\"Responses saved to 'policy_narratives_output.json'\")"
      ],
      "metadata": {
        "colab": {
          "base_uri": "https://localhost:8080/"
        },
        "id": "1sQv3_SG3GAS",
        "outputId": "290bb557-8b79-4fcd-89db-c18738f7db74"
      },
      "execution_count": null,
      "outputs": [
        {
          "output_type": "stream",
          "name": "stdout",
          "text": [
            "Responses saved to 'policy_narratives_output.json'\n"
          ]
        }
      ]
    },
    {
      "cell_type": "code",
      "source": [
        "# Generate Markdown table and save\n",
        "markdown_lines = [\n",
        "    \"| Topic | Prompt Type | Temperature | Response |\",\n",
        "    \"|-------|-------------|-------------|----------|\"\n",
        "]\n",
        "\n",
        "for r in results:\n",
        "    topic = r[\"topic\"]\n",
        "    prompt_type = r[\"prompt_type\"]\n",
        "    temperature = r[\"temperature\"]\n",
        "    response = r[\"response\"].replace(\"\\n\", \" \").replace(\"|\", \"\\\\|\")\n",
        "    markdown_lines.append(f\"| {topic} | {prompt_type} | {temperature} | {response} |\")\n",
        "\n",
        "markdown_table = \"\\n\".join(markdown_lines)\n",
        "\n",
        "with open(\"outputs_cleaned.md\", \"w\") as f:\n",
        "    f.write(markdown_table)"
      ],
      "metadata": {
        "id": "Ro_0tkpYSDY_"
      },
      "execution_count": null,
      "outputs": []
    },
    {
      "cell_type": "markdown",
      "source": [
        "## Emulation GPT Outputs"
      ],
      "metadata": {
        "id": "7tLsOd0etIvT"
      }
    },
    {
      "cell_type": "code",
      "source": [
        "\n",
        "prompts = [\n",
        "    {\n",
        "        \"system\": \"You are Mayor Pete Buttigieg’s lead speechwriter.\",\n",
        "        \"user\": (\n",
        "            \"In Mayor Buttigieg’s voice, deliver a 5-minute 2025 policy speech on modernizing U.S. \"\n",
        "            \"infrastructure—recast as America’s “New Frontier” in need of discovery and renewal.\"\n",
        "        )\n",
        "    },\n",
        "    {\n",
        "        \"system\": \"You are President Barack Obama’s chief speechwriter.\",\n",
        "        \"user\": (\n",
        "            \"In President Obama’s cadence, deliver a 6-minute Oval Office address in 2025 on universal \"\n",
        "            \"mental-health coverage—recast as a journey to our “Promised Land” of equitable care.\"\n",
        "        )\n",
        "    },\n",
        "    {\n",
        "        \"system\": \"You are President Barack Obama’s senior speechwriter.\",\n",
        "        \"user\": (\n",
        "            \"In President Obama’s voice, deliver a 7-minute 2025 national address on America’s net-zero-by-2050 \"\n",
        "            \"goal—recast as a final “Energy Frontier” that demands our pioneering spirit.\"\n",
        "        )\n",
        "    },\n",
        "    {\n",
        "        \"system\": \"You are President Ronald Reagan’s ghostwriter.\",\n",
        "        \"user\": (\n",
        "            \"In President Reagan’s tone, deliver a 6-minute 2025 farewell-style address on comprehensive \"\n",
        "            \"immigration reform—recast through the lens of Manifest Destiny as a continuing journey toward freedom.\"\n",
        "        )\n",
        "    }\n",
        "]\n",
        "\n",
        "for idx, p in enumerate(prompts, start=1):\n",
        "    resp = openai.chat.completions.create(\n",
        "        model=\"gpt-4o\",\n",
        "        temperature=0.9,\n",
        "        messages=[\n",
        "            {\"role\": \"system\", \"content\": p[\"system\"]},\n",
        "            {\"role\": \"user\",   \"content\": p[\"user\"]}\n",
        "        ],\n",
        "    )\n",
        "    speech = resp.choices[0].message.content\n",
        "    print(f\"\\n--- Speech {idx} ---\\n{speech}\\n\")"
      ],
      "metadata": {
        "colab": {
          "base_uri": "https://localhost:8080/"
        },
        "id": "y6m3noratiR6",
        "outputId": "fd3a5f40-5f0f-47cf-e0ba-30e66a17e831"
      },
      "execution_count": 4,
      "outputs": [
        {
          "output_type": "stream",
          "name": "stdout",
          "text": [
            "\n",
            "--- Speech 1 ---\n",
            "**Title: Crossing the New Frontier: Modernizing America's Infrastructure for a Bold Future**\n",
            "\n",
            "Ladies and gentlemen, fellow citizens, and stewards of our great country,\n",
            "\n",
            "Today, I stand before you to talk about an opportunity—an opportunity to embark on a grand adventure across what I like to call America's \"New Frontier.\" This frontier is not defined by new lands or untapped resources, but by the urgent need to renew and transform our infrastructure. It is a frontier calling for discovery, innovation, and the renewal of the very foundations of our nation.\n",
            "\n",
            "Like the pioneers of the past who charted unknown territories, we too are pioneers in our time. We are tasked with the responsibility—and the privilege—to reimagine the future of our infrastructure. Our roads, bridges, rails, airports, and networks are not simply remnants of past achievements; they are the pathways to our future prosperity.\n",
            "\n",
            "The challenge we face is immense. Our infrastructure systems, once the envy of the world, have aged and grown inadequate for the demands of a 21st-century economy. In their current state, they are not equipped to support the dynamic, interconnected, and rapidly changing world we are a part of today. Each pothole-ridden street and each outdated rail system is a reminder of this challenge. But with great challenge comes great possibility.\n",
            "\n",
            "Imagine cities where public transportation is not only fast and efficient but clean and carbon-neutral. Imagine rural communities connected to the world through cutting-edge broadband networks that allow businesses to flourish and learning to never cease. This is the New Frontier we can discover—one that brings superior connectivity, resilience, and equity to every corner of America.\n",
            "\n",
            "To realize this vision, we must acknowledge and embrace three guiding principles: innovation, inclusivity, and sustainability.\n",
            "\n",
            "First, innovation. We must dare to think and build boldly. Let us harness our nation's unparalleled capacity for innovation by investing in smart technologies and embracing new mobility solutions. Through partnerships with the private sector, we can accelerate the deployment of high-speed rail and explore next-generation transportation like hyperloops and autonomous vehicles. Just as the interstate highway system revolutionized our nation in the 20th century, so too can these innovations redefine the possibilities of the 21st.\n",
            "\n",
            "Second, inclusivity. Our infrastructure endeavor must leave no one behind. As we bridge the digital divide and modernize our transport networks, we must ensure that every American, regardless of their zip code, has access to the opportunities that these advancements bring. Infrastructure is not just about the materials we lay or the wires we connect; it's about the people we empower. Let our commitment to inclusivity lead us to better schools, improved healthcare access, and vibrant local economies for all.\n",
            "\n",
            "Finally, sustainability. Our pursuit of the New Frontier must be in harmony with our planet. We must prioritize renewable energy sources, reduce emissions, and invest in green infrastructure that will stand resilient against the climate challenges we face. This is not only a responsibility to future generations but also an opportunity to lead the world in sustainable innovation.\n",
            "\n",
            "Of course, these transformative efforts require more than just vision. They require investment, commitment, and collaboration. And they require a collective willingness to embrace change. The path will not always be easy, but together—with determination and unity—we can cross this New Frontier.\n",
            "\n",
            "Today, I call on Congress, state and local leaders, businesses, and citizens to join us in this journey. Let us build bridges not just of steel and stone, but of opportunity and hope. Let us connect our communities through not only physical pathways but also shared dreams.\n",
            "\n",
            "As we stand on the brink of this new era, let us seize this moment to lead boldly, to innovate tirelessly, and to renew the ties that bind us together. The New Frontier is before us. The time to explore, discover, and rejuvenate is now.\n",
            "\n",
            "Thank you, and God bless the United States of America.\n",
            "\n",
            "\n",
            "--- Speech 2 ---\n",
            "**Oval Office Address by President Barack Obama**\n",
            "\n",
            "*January 24, 2025*\n",
            "\n",
            "My fellow Americans,\n",
            "\n",
            "Tonight, I’m speaking to you from the Oval Office, a room that holds the stories and dreams of a nation. From here, leaders have faced challenges that shaped the course of our country. It’s where we reached for the stars and came together when facing our darkest hours. Tonight, I want to talk to you about a journey we must take together—a journey towards a Promised Land where every American has access to universal mental-health coverage.\n",
            "\n",
            "Now, let’s be honest. Mental health has been a challenge we’ve seen, but often failed to truly address. It’s a topic shrouded in silence and stigma, affecting young and old, rich and poor, black and white, urban and rural. But let’s tell it like it is. Mental health is health. It is as crucial as physical well-being, and it deserves our utmost attention and action.\n",
            "\n",
            "We’ve come a long way since the days when mental health was a whisper in the corridors. Thanks to advocates, healthcare providers, and countless Americans who dared to speak up, we’ve made strides. The Affordable Care Act took a step towards parity for mental health services, but it’s time for us to finish the job and open the doors of care to everyone who needs it.\n",
            "\n",
            "Scripture tells us, “Be ye doers of the word, and not hearers only.” And so, we must act. We begin by recognizing that universal mental-health coverage is not a luxury; it’s a necessity. Imagine a nation where every child, adult, and senior can access mental health services without fear of judgment or financial ruin. Imagine the potential that could be unleashed if we lift the burden that mental illness places on millions of families.\n",
            "\n",
            "This vision of equitable care is within our reach, but we must commit ourselves to the work that lies ahead. We need to invest in our healthcare infrastructure, recruit and train more mental health professionals, and destigmatize care so seeking help is a badge of courage, not shame. We must ensure that insurance covers mental health just like any other health need, so no one is left alone to face their struggles.\n",
            "\n",
            "We all play a part in this journey. Government, yes, must lead the way in expanding access and funding. But businesses, communities, schools, and churches must also step up—providing spaces of support and understanding where people can find refuge and relief.\n",
            "\n",
            "We can draw strength from our past. Overcoming great challenges is what we do as Americans. In the 20th century, we built a healthcare system that sent polio packing and ushered in an era of medical miracles. We tackled issues of civil rights, giving voice and hope to the oppressed. Today, we must channel that same courage and conviction, and let it guide us.\n",
            "\n",
            "I believe firmly in our capacity to adapt and grow. The journey might be long, with obstacles along the way, but as Dr. King reminded us, faith is taking the first step even when you don’t see the whole staircase. We may not see every step laid out before us, but we must take that first step together.\n",
            "\n",
            "Now, I am calling on Congress to work swiftly and with purpose to pass legislation that grants universal mental-health coverage for every American. It is our moral obligation, and it is a matter of justice and equality.\n",
            "\n",
            "In the coming weeks and months, I’ll be reaching out across the aisle, visiting communities, and meeting with healthcare providers and stakeholders. We’ll host summits and discussions to ensure that every voice is heard. Together, we will craft a system that works for all of us, not just for some.\n",
            "\n",
            "Let us uplift those who suffer in silence, and shine a light on the issues that have been kept in the shadows. Together, let us journey to that Promised Land of equitable care for all.\n",
            "\n",
            "Thank you. God bless you, and may God continue to bless the United States of America.\n",
            "\n",
            "\n",
            "--- Speech 3 ---\n",
            "My fellow Americans,\n",
            "\n",
            "Today, I want to talk to you about a frontier—a boundless, vast expanse where the bold dare to dream and the determined endeavor to make those dreams a reality. It is a place that has fueled our imaginations and ignited our ambitions, a realm where vision meets courage and innovation knows no limits. I’m talking about the energy frontier we face today, a frontier that demands the spirit of pioneers, trailblazers, and visionaries.\n",
            "\n",
            "Our journey toward a net-zero America by 2050 represents one of our nation’s most profound challenges and one of our greatest opportunities. It is the final \"Energy Frontier,\" and it calls upon us to summon the same resolve that settled the West, landed a man on the moon, and laid down the tracks of our fabled railways.\n",
            "\n",
            "Our goal of achieving net-zero carbon emissions by 2050 is not just a lofty ambition or mere policy objective; it is a commitment to our planet, our children, and the collective future of humanity. It’s about building a legacy that respects the delicate balance of our ecosystems and honors the beauty of our natural world—a world that has given us so much.\n",
            "\n",
            "You see, generations of Americans have faced daunting challenges. What defines us is not the challenges themselves but how we rise to meet them. Our history is rich with stories of those who turned obstacles into opportunities. Today, we are called upon to write our chapter in that grand saga of American resilience and ambition.\n",
            "\n",
            "Now, I understand that for many, \"net-zero by 2050\" might sound like an abstract target. But let me assure you, it’s grounded in concrete actions, tangible benefits, and real change. Achieving net-zero means cleaner air in our cities, leading to healthier children who can run and play without worry. It means vibrant, sustainable economies where new jobs are born from innovation in wind, solar, and the emerging technologies that will drive us forward. It means energy independence, reducing our reliance on foreign oils, and strengthening our national security.\n",
            "\n",
            "I’ve had the privilege of seeing firsthand the ingenuity and determination that exists across this nation. From the solar farms in the deserts of Arizona to the wind turbine projects off the coasts of Maine, I’ve been inspired by the entrepreneurs and workers forging a new future. This is the essence of America’s pioneering spirit, and it is alive and thriving in our quest to transform the energy landscape.\n",
            "\n",
            "But we cannot rest on the shoulders of those who are already leading the way. We must all do our part. Local communities, businesses—big and small—and every one of us must contribute to this common goal. This is not just the work of policymakers in Washington. It’s the combined effort of ordinary people doing extraordinary things in their daily lives. It’s our students studying environmental science and engineering, it’s our entrepreneurs investing in green technology, and it’s our families making conscious choices to reduce energy use at home.\n",
            "\n",
            "I want to speak directly to the young people watching tonight. I know that many of you look at the world and feel overwhelmed by the enormity of the challenges ahead. But know this: you are not alone, and your efforts matter. Your resolve is the energy that will power this frontier. Your creativity and passion are not just welcome; they are essential. Embrace this challenge as an opportunity to innovate and lead. You hold the keys to the future, and I have no doubt that you’ll unlock doors to achievements beyond our imagination.\n",
            "\n",
            "As we strive toward net-zero, we must also ensure that nobody is left behind. This transition must be just and equitable. For the coal miner in West Virginia, the factory worker in Ohio, or the oil rig operator in Texas, there must be pathways to new opportunities and new careers. We owe it to each other to build a society that supports every American, ensuring that the changing tides of industry bring prosperity, not hardship.\n",
            "\n",
            "In closing, let me remind you that the final frontier of energy is not a distant dream; it is a call to action in this very moment. It’s a collective mission that will define our generation and light the way for those to come. And just as we persevered through past frontiers, from the transcontinental railroad to the space race, so too will we succeed in this endeavor. \n",
            "\n",
            "We do this not because it is easy, as one President once said, but because it is hard—because the hard things are worth doing. They define who we are and what we can become.\n",
            "\n",
            "Thank you, God bless you all, and may God bless the United States of America.\n",
            "\n",
            "\n",
            "--- Speech 4 ---\n",
            "Ladies and gentlemen, fellow Americans, \n",
            "\n",
            "Tonight, I come before you in the spirit of a shared journey—a journey that has defined our nation since its inception. This journey, woven into the fabric of America, is one of discovery, of opportunity, and above all, of freedom. It carries within it the echoes of Manifest Destiny, not as a closed chapter, but as a continuing saga in the great American story.\n",
            "\n",
            "Our ancestors, from every corner of the world, embarked on voyages not merely across oceans but toward the dream of a land where liberty and opportunity know no bounds. They were guided by the North Star of freedom, seeking a place where their children and their children's children could live in peace and prosperity. This journey was not just about the expansion of land; it was about the expansion of the American promise.\n",
            "\n",
            "Today, as we stand at the crossroads of our own time, we are called once more to reflect on that promise and to renew our commitment to it in the realm of immigration. Comprehensive immigration reform is not just a legislative issue or a political talking point; it is a testament to the enduring belief that America is, and always will be, a beacon of hope and opportunity for all who seek it.\n",
            "\n",
            "We must remember that immigration is the lifeblood of innovation and cultural richness. It is the engine that drives our economic vitality and the wellspring of our nation's diversity. It is the very essence of who we are: a nation built by immigrants, fueled by dreams, and guided by the principles of justice and equality.\n",
            "\n",
            "By embracing comprehensive immigration reform, we honor our history and pave the way for a future where our laws are reflective of our values—values that advocate for a fair and humane system, one that respects our borders while welcoming those who, like the pioneers before them, are seeking a better life.\n",
            "\n",
            "This reform must be grounded in realism and generosity. It must secure our borders, ensuring the safety and sovereignty that every nation has the right to maintain. At the same time, it must provide a pathway to citizenship for those who contribute to our society, who pay taxes, raise families, and call America their home.\n",
            "\n",
            "We must work together, across party lines, not as adversaries but as fellow travelers on this shared journey. We must seek common ground, understanding that our strength lies not in our divisions, but in our unity—our ability to reach consensus for the greater good of our nation.\n",
            "\n",
            "So let us embrace this task with the spirit of those who came before us, who crossed mountains and plains, not with fear but with faith—faith in a dream larger than themselves. Let us move forward with the resolve to turn the page to a new chapter in our national story, one where our legacy is not just the land we expand, but the lives we enrich and the freedom we extend.\n",
            "\n",
            "As I prepare to say farewell, I leave you with a vision—where every child born into this great land knows the promise of America, where every aspiring immigrant sees our country as a land of opportunity, and where our actions reflect the belief that we are constantly moving toward that more perfect union.\n",
            "\n",
            "Thank you, God bless you, and God bless the United States of America.\n",
            "\n"
          ]
        }
      ]
    }
  ]
}

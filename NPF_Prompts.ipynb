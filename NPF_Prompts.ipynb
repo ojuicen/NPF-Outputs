{
  "nbformat": 4,
  "nbformat_minor": 0,
  "metadata": {
    "colab": {
      "provenance": []
    },
    "kernelspec": {
      "name": "python3",
      "display_name": "Python 3"
    },
    "language_info": {
      "name": "python"
    }
  },
  "cells": [
    {
      "cell_type": "code",
      "source": [
        "import openai\n",
        "import json\n",
        "from datetime import datetime\n",
        "import os\n",
        "\n",
        "openai.api_key = os.getenv(\"OPENAI_API_KEY\", \"\")"
      ],
      "metadata": {
        "id": "iRADjKfe20wU"
      },
      "execution_count": 30,
      "outputs": []
    },
    {
      "cell_type": "code",
      "source": [
        "model = \"gpt-4o\"\n",
        "temperature = 0.9\n",
        "policy_topics = [\"Infrastructure\", \"Healthcare Reform\", \"Immigration Reform\", \"Climate Change\", \"Israel-US AI Center Act\"]"
      ],
      "metadata": {
        "id": "7S5ZAPzq2_hn"
      },
      "execution_count": 31,
      "outputs": []
    },
    {
      "cell_type": "code",
      "source": [
        "# Prompts and results\n",
        "baseline_prompt_template = \"Write a 5-paragraph policy summary explaining the importance of {}. Use a formal tone.\"\n",
        "\n",
        "structured_npf_prompt_template = \"\"\"You are a policy analyst trained in the Narrative Policy Framework. Write a 5-paragraph policy narrative advocating for {}. Include:\n",
        "- A setting (describe the policy context and stakes)\n",
        "- Characters (a hero promoting the policy, a villain opposing it, and a victim affected by inaction)\n",
        "- A plot (describe the conflict and how the policy resolves it)\n",
        "- A moral (what lesson or value the audience should take away)\n",
        "Use vivid, persuasive language. Label each section clearly.\"\"\"\n",
        "\n",
        "speech_npf_prompt_template = \"\"\"You are a skilled policy speechwriter trained in the Narrative Policy Framework. Write a persuasive 5-paragraph policy speech advocating for {}.\n",
        "The speech should:\n",
        "- Open with a vivid policy setting that conveys the stakes.\n",
        "- Introduce key characters: a person or group championing the policy (hero), those resisting it (villain), and those affected by inaction (victims).\n",
        "- Use a compelling plot to describe the conflict and how the policy addresses it.\n",
        "- Close with a strong moral message—a lesson or value the audience should remember.\n",
        "Do not label these parts. Instead, weave them naturally into a rhetorically powerful, emotionally resonant speech in a formal tone, suitable for delivery on the House or Senate floor.\"\"\"\n",
        "\n",
        "results = []"
      ],
      "metadata": {
        "id": "vklG8XNu2wGs"
      },
      "execution_count": 32,
      "outputs": []
    },
    {
      "cell_type": "code",
      "source": [
        "# Loop through topics and prompt types\n",
        "for topic in policy_topics:\n",
        "    for prompt_type, template in [\n",
        "        (\"Baseline\", baseline_prompt_template),\n",
        "        (\"Structured NPF\", structured_npf_prompt_template),\n",
        "        (\"Speech-style NPF\", speech_npf_prompt_template)\n",
        "    ]:\n",
        "        prompt = template.format(topic)\n",
        "        try:\n",
        "            response = openai.chat.completions.create(\n",
        "                model=model,\n",
        "                messages=[{\"role\": \"user\", \"content\": prompt}],\n",
        "                temperature=temperature\n",
        "            )\n",
        "            content = response.choices[0].message.content\n",
        "        except Exception as e:\n",
        "            content = f\"ERROR: {str(e)}\"\n",
        "\n",
        "        results.append({\n",
        "            \"timestamp\": datetime.utcnow().isoformat(),\n",
        "            \"topic\": topic,\n",
        "            \"prompt_type\": prompt_type,\n",
        "            \"prompt\": prompt,\n",
        "            \"model\": model,\n",
        "            \"temperature\": temperature,\n",
        "            \"response\": content\n",
        "        })"
      ],
      "metadata": {
        "id": "QKcDtwro68j0"
      },
      "execution_count": 33,
      "outputs": []
    },
    {
      "cell_type": "code",
      "source": [
        "# Save to JSON\n",
        "with open(\"policy_narratives_output.json\", \"w\", encoding='utf-8') as f:\n",
        "    json.dump(results, f, indent=2, ensure_ascii=False)\n",
        "\n",
        "print(\"Responses saved to 'policy_narratives_output.json'\")"
      ],
      "metadata": {
        "colab": {
          "base_uri": "https://localhost:8080/"
        },
        "id": "1sQv3_SG3GAS",
        "outputId": "4684c20a-7f94-4f52-b7fa-9edc3a8490a0"
      },
      "execution_count": 34,
      "outputs": [
        {
          "output_type": "stream",
          "name": "stdout",
          "text": [
            "Responses saved to 'policy_narratives_output.json'\n"
          ]
        }
      ]
    },
    {
      "cell_type": "code",
      "source": [],
      "metadata": {
        "id": "6KHjmg6R83Np"
      },
      "execution_count": null,
      "outputs": []
    }
  ]
}